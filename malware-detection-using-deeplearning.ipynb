{
 "cells": [
  {
   "cell_type": "code",
   "execution_count": 2,
   "metadata": {
    "_cell_guid": "b1076dfc-b9ad-4769-8c92-a6c4dae69d19",
    "_uuid": "8f2839f25d086af736a60e9eeb907d3b93b6e0e5",
    "execution": {
     "iopub.execute_input": "2021-03-30T09:16:00.649480Z",
     "iopub.status.busy": "2021-03-30T09:16:00.648916Z",
     "iopub.status.idle": "2021-03-30T09:16:00.661709Z",
     "shell.execute_reply": "2021-03-30T09:16:00.662330Z"
    },
    "papermill": {
     "duration": 0.03704,
     "end_time": "2021-03-30T09:16:00.662528",
     "exception": false,
     "start_time": "2021-03-30T09:16:00.625488",
     "status": "completed"
    },
    "tags": []
   },
   "outputs": [],
   "source": [
    "\n",
    "import numpy as np\n",
    "import pandas as pd\n",
    "\n"
   ]
  },
  {
   "cell_type": "code",
   "execution_count": 3,
   "metadata": {
    "_cell_guid": "79c7e3d0-c299-4dcb-8224-4455121ee9b0",
    "_uuid": "d629ff2d2480ee46fbb7e2d37f6b5fab8052498a",
    "execution": {
     "iopub.execute_input": "2021-03-30T09:16:00.701971Z",
     "iopub.status.busy": "2021-03-30T09:16:00.701447Z",
     "iopub.status.idle": "2021-03-30T09:16:01.196207Z",
     "shell.execute_reply": "2021-03-30T09:16:01.196687Z"
    },
    "papermill": {
     "duration": 0.516476,
     "end_time": "2021-03-30T09:16:01.196828",
     "exception": false,
     "start_time": "2021-03-30T09:16:00.680352",
     "status": "completed"
    },
    "tags": []
   },
   "outputs": [
    {
     "data": {
      "text/html": [
       "<div>\n",
       "<style scoped>\n",
       "    .dataframe tbody tr th:only-of-type {\n",
       "        vertical-align: middle;\n",
       "    }\n",
       "\n",
       "    .dataframe tbody tr th {\n",
       "        vertical-align: top;\n",
       "    }\n",
       "\n",
       "    .dataframe thead th {\n",
       "        text-align: right;\n",
       "    }\n",
       "</style>\n",
       "<table border=\"1\" class=\"dataframe\">\n",
       "  <thead>\n",
       "    <tr style=\"text-align: right;\">\n",
       "      <th></th>\n",
       "      <th>hash</th>\n",
       "      <th>millisecond</th>\n",
       "      <th>classification</th>\n",
       "      <th>state</th>\n",
       "      <th>usage_counter</th>\n",
       "      <th>prio</th>\n",
       "      <th>static_prio</th>\n",
       "      <th>normal_prio</th>\n",
       "      <th>policy</th>\n",
       "      <th>vm_pgoff</th>\n",
       "      <th>...</th>\n",
       "      <th>nivcsw</th>\n",
       "      <th>min_flt</th>\n",
       "      <th>maj_flt</th>\n",
       "      <th>fs_excl_counter</th>\n",
       "      <th>lock</th>\n",
       "      <th>utime</th>\n",
       "      <th>stime</th>\n",
       "      <th>gtime</th>\n",
       "      <th>cgtime</th>\n",
       "      <th>signal_nvcsw</th>\n",
       "    </tr>\n",
       "  </thead>\n",
       "  <tbody>\n",
       "    <tr>\n",
       "      <th>0</th>\n",
       "      <td>42fb5e2ec009a05ff5143227297074f1e9c6c3ebb9c914...</td>\n",
       "      <td>0</td>\n",
       "      <td>malware</td>\n",
       "      <td>0</td>\n",
       "      <td>0</td>\n",
       "      <td>3069378560</td>\n",
       "      <td>14274</td>\n",
       "      <td>0</td>\n",
       "      <td>0</td>\n",
       "      <td>0</td>\n",
       "      <td>...</td>\n",
       "      <td>0</td>\n",
       "      <td>0</td>\n",
       "      <td>120</td>\n",
       "      <td>0</td>\n",
       "      <td>3204448256</td>\n",
       "      <td>380690</td>\n",
       "      <td>4</td>\n",
       "      <td>0</td>\n",
       "      <td>0</td>\n",
       "      <td>0</td>\n",
       "    </tr>\n",
       "    <tr>\n",
       "      <th>1</th>\n",
       "      <td>42fb5e2ec009a05ff5143227297074f1e9c6c3ebb9c914...</td>\n",
       "      <td>1</td>\n",
       "      <td>malware</td>\n",
       "      <td>0</td>\n",
       "      <td>0</td>\n",
       "      <td>3069378560</td>\n",
       "      <td>14274</td>\n",
       "      <td>0</td>\n",
       "      <td>0</td>\n",
       "      <td>0</td>\n",
       "      <td>...</td>\n",
       "      <td>0</td>\n",
       "      <td>0</td>\n",
       "      <td>120</td>\n",
       "      <td>0</td>\n",
       "      <td>3204448256</td>\n",
       "      <td>380690</td>\n",
       "      <td>4</td>\n",
       "      <td>0</td>\n",
       "      <td>0</td>\n",
       "      <td>0</td>\n",
       "    </tr>\n",
       "    <tr>\n",
       "      <th>2</th>\n",
       "      <td>42fb5e2ec009a05ff5143227297074f1e9c6c3ebb9c914...</td>\n",
       "      <td>2</td>\n",
       "      <td>malware</td>\n",
       "      <td>0</td>\n",
       "      <td>0</td>\n",
       "      <td>3069378560</td>\n",
       "      <td>14274</td>\n",
       "      <td>0</td>\n",
       "      <td>0</td>\n",
       "      <td>0</td>\n",
       "      <td>...</td>\n",
       "      <td>0</td>\n",
       "      <td>0</td>\n",
       "      <td>120</td>\n",
       "      <td>0</td>\n",
       "      <td>3204448256</td>\n",
       "      <td>380690</td>\n",
       "      <td>4</td>\n",
       "      <td>0</td>\n",
       "      <td>0</td>\n",
       "      <td>0</td>\n",
       "    </tr>\n",
       "    <tr>\n",
       "      <th>3</th>\n",
       "      <td>42fb5e2ec009a05ff5143227297074f1e9c6c3ebb9c914...</td>\n",
       "      <td>3</td>\n",
       "      <td>malware</td>\n",
       "      <td>0</td>\n",
       "      <td>0</td>\n",
       "      <td>3069378560</td>\n",
       "      <td>14274</td>\n",
       "      <td>0</td>\n",
       "      <td>0</td>\n",
       "      <td>0</td>\n",
       "      <td>...</td>\n",
       "      <td>0</td>\n",
       "      <td>0</td>\n",
       "      <td>120</td>\n",
       "      <td>0</td>\n",
       "      <td>3204448256</td>\n",
       "      <td>380690</td>\n",
       "      <td>4</td>\n",
       "      <td>0</td>\n",
       "      <td>0</td>\n",
       "      <td>0</td>\n",
       "    </tr>\n",
       "    <tr>\n",
       "      <th>4</th>\n",
       "      <td>42fb5e2ec009a05ff5143227297074f1e9c6c3ebb9c914...</td>\n",
       "      <td>4</td>\n",
       "      <td>malware</td>\n",
       "      <td>0</td>\n",
       "      <td>0</td>\n",
       "      <td>3069378560</td>\n",
       "      <td>14274</td>\n",
       "      <td>0</td>\n",
       "      <td>0</td>\n",
       "      <td>0</td>\n",
       "      <td>...</td>\n",
       "      <td>0</td>\n",
       "      <td>0</td>\n",
       "      <td>120</td>\n",
       "      <td>0</td>\n",
       "      <td>3204448256</td>\n",
       "      <td>380690</td>\n",
       "      <td>4</td>\n",
       "      <td>0</td>\n",
       "      <td>0</td>\n",
       "      <td>0</td>\n",
       "    </tr>\n",
       "  </tbody>\n",
       "</table>\n",
       "<p>5 rows × 35 columns</p>\n",
       "</div>"
      ],
      "text/plain": [
       "                                                hash  millisecond  \\\n",
       "0  42fb5e2ec009a05ff5143227297074f1e9c6c3ebb9c914...            0   \n",
       "1  42fb5e2ec009a05ff5143227297074f1e9c6c3ebb9c914...            1   \n",
       "2  42fb5e2ec009a05ff5143227297074f1e9c6c3ebb9c914...            2   \n",
       "3  42fb5e2ec009a05ff5143227297074f1e9c6c3ebb9c914...            3   \n",
       "4  42fb5e2ec009a05ff5143227297074f1e9c6c3ebb9c914...            4   \n",
       "\n",
       "  classification  state  usage_counter        prio  static_prio  normal_prio  \\\n",
       "0        malware      0              0  3069378560        14274            0   \n",
       "1        malware      0              0  3069378560        14274            0   \n",
       "2        malware      0              0  3069378560        14274            0   \n",
       "3        malware      0              0  3069378560        14274            0   \n",
       "4        malware      0              0  3069378560        14274            0   \n",
       "\n",
       "   policy  vm_pgoff  ...  nivcsw  min_flt  maj_flt  fs_excl_counter  \\\n",
       "0       0         0  ...       0        0      120                0   \n",
       "1       0         0  ...       0        0      120                0   \n",
       "2       0         0  ...       0        0      120                0   \n",
       "3       0         0  ...       0        0      120                0   \n",
       "4       0         0  ...       0        0      120                0   \n",
       "\n",
       "         lock   utime  stime  gtime  cgtime  signal_nvcsw  \n",
       "0  3204448256  380690      4      0       0             0  \n",
       "1  3204448256  380690      4      0       0             0  \n",
       "2  3204448256  380690      4      0       0             0  \n",
       "3  3204448256  380690      4      0       0             0  \n",
       "4  3204448256  380690      4      0       0             0  \n",
       "\n",
       "[5 rows x 35 columns]"
      ]
     },
     "execution_count": 3,
     "metadata": {},
     "output_type": "execute_result"
    }
   ],
   "source": [
    "raw_data = pd.read_csv(\"Malware dataset.csv\")\n",
    "raw_data.head()"
   ]
  },
  {
   "cell_type": "code",
   "execution_count": 4,
   "metadata": {
    "execution": {
     "iopub.execute_input": "2021-03-30T09:16:01.238120Z",
     "iopub.status.busy": "2021-03-30T09:16:01.237030Z",
     "iopub.status.idle": "2021-03-30T09:16:01.240292Z",
     "shell.execute_reply": "2021-03-30T09:16:01.240728Z"
    },
    "papermill": {
     "duration": 0.026188,
     "end_time": "2021-03-30T09:16:01.240828",
     "exception": false,
     "start_time": "2021-03-30T09:16:01.214640",
     "status": "completed"
    },
    "tags": []
   },
   "outputs": [
    {
     "data": {
      "text/plain": [
       "Index(['hash', 'millisecond', 'classification', 'state', 'usage_counter',\n",
       "       'prio', 'static_prio', 'normal_prio', 'policy', 'vm_pgoff',\n",
       "       'vm_truncate_count', 'task_size', 'cached_hole_size', 'free_area_cache',\n",
       "       'mm_users', 'map_count', 'hiwater_rss', 'total_vm', 'shared_vm',\n",
       "       'exec_vm', 'reserved_vm', 'nr_ptes', 'end_data', 'last_interval',\n",
       "       'nvcsw', 'nivcsw', 'min_flt', 'maj_flt', 'fs_excl_counter', 'lock',\n",
       "       'utime', 'stime', 'gtime', 'cgtime', 'signal_nvcsw'],\n",
       "      dtype='object')"
      ]
     },
     "execution_count": 4,
     "metadata": {},
     "output_type": "execute_result"
    }
   ],
   "source": [
    "raw_data.columns"
   ]
  },
  {
   "cell_type": "markdown",
   "metadata": {
    "papermill": {
     "duration": 0.017834,
     "end_time": "2021-03-30T09:16:01.276286",
     "exception": false,
     "start_time": "2021-03-30T09:16:01.258452",
     "status": "completed"
    },
    "tags": []
   },
   "source": [
    "Based on the characteristics of the observations, the dataset was created in a Unix / Lunix-based\n",
    "virtual machine for classification purposes, which are harmless with malware software for Android\n",
    "devices. The data set consists of 100,000 observation data and 35 features. Below is a table of\n",
    "specifications and descriptions."
   ]
  },
  {
   "cell_type": "markdown",
   "metadata": {
    "papermill": {
     "duration": 0.017373,
     "end_time": "2021-03-30T09:16:01.311350",
     "exception": false,
     "start_time": "2021-03-30T09:16:01.293977",
     "status": "completed"
    },
    "tags": []
   },
   "source": [
    "| Features Description \t| Properties                                                      \t|\n",
    "|----------------------\t|-----------------------------------------------------------------\t|\n",
    "| hash APK/ SHA256     \t| file name                                                       \t|\n",
    "| milisecond           \t| time                                                            \t|\n",
    "| classification       \t| malware/beign                                                   \t|\n",
    "| state                \t| flag of unrunable/runnable/stopped tasks                        \t|\n",
    "| usage_counter        \t| task structure usage counter                                    \t|\n",
    "| prio                 \t| keeps the dynamic priority of a process                         \t|\n",
    "| static_prio          \t| static priority of a process                                    \t|\n",
    "| normal_prio          \t| priority without taking RT-inheritance into account             \t|\n",
    "| policy               \t| planning policy of the process                                  \t|\n",
    "| vm_pgoff             \t| the offset of the area in the file, in pages.                   \t|\n",
    "| vm_truncate_count    \t| used to mark a vma as now dealt with                            \t|\n",
    "| task_size            \t| size of current task.                                           \t|\n",
    "| cached_hole_size     \t| size of free address space hole.                                \t|\n",
    "| free_area_cache      \t| first address space hole                                        \t|\n",
    "| mm_users             \t| address space users                                             \t|\n",
    "| map_count            \t| number of memory areas                                          \t|\n",
    "| hiwater_rss          \t| peak of resident set size                                       \t|\n",
    "| total_vm             \t| total number of pages                                           \t|\n",
    "| shared_vm            \t| number of shared pages.                                         \t|\n",
    "| exec_vm              \t| number of executable pages.                                     \t|\n",
    "| reserved_vm          \t| number of reserved pages.                                       \t|\n",
    "| nr_ptes              \t| number of page table entries                                    \t|\n",
    "| end_data             \t| end address of code component                                   \t|\n",
    "| last_interval        \t| last interval time before thrashing                             \t|\n",
    "| nvcsw                \t| number of volunteer context switches.                           \t|\n",
    "| nivcsw               \t| number of in-volunteer context switches                         \t|\n",
    "| min_flt              \t| minör page faults                                               \t|\n",
    "| maj_flt              \t| majör page faults                                               \t|\n",
    "| fs_excl_counter      \t| ıt holds file system exclusive resources.                       \t|\n",
    "| lock                 \t| the read-write synchronization lock used for file system access \t|\n",
    "| utime                \t| user time                                                       \t|\n",
    "| stime                \t| system time                                                     \t|\n",
    "| gtime                \t| guest time                                                      \t|\n",
    "| cgtime               \t| cumulative group time. Cumulative resource counter              \t|\n",
    "| signal_nvcsw         \t| used as cumulative resource counter.                            \t|\n"
   ]
  },
  {
   "cell_type": "code",
   "execution_count": 5,
   "metadata": {
    "execution": {
     "iopub.execute_input": "2021-03-30T09:16:01.372284Z",
     "iopub.status.busy": "2021-03-30T09:16:01.371559Z",
     "iopub.status.idle": "2021-03-30T09:16:01.558556Z",
     "shell.execute_reply": "2021-03-30T09:16:01.558945Z"
    },
    "papermill": {
     "duration": 0.230029,
     "end_time": "2021-03-30T09:16:01.559068",
     "exception": false,
     "start_time": "2021-03-30T09:16:01.329039",
     "status": "completed"
    },
    "scrolled": true,
    "tags": []
   },
   "outputs": [
    {
     "data": {
      "text/html": [
       "<div>\n",
       "<style scoped>\n",
       "    .dataframe tbody tr th:only-of-type {\n",
       "        vertical-align: middle;\n",
       "    }\n",
       "\n",
       "    .dataframe tbody tr th {\n",
       "        vertical-align: top;\n",
       "    }\n",
       "\n",
       "    .dataframe thead th {\n",
       "        text-align: right;\n",
       "    }\n",
       "</style>\n",
       "<table border=\"1\" class=\"dataframe\">\n",
       "  <thead>\n",
       "    <tr style=\"text-align: right;\">\n",
       "      <th></th>\n",
       "      <th>hash</th>\n",
       "      <th>millisecond</th>\n",
       "      <th>classification</th>\n",
       "      <th>state</th>\n",
       "      <th>usage_counter</th>\n",
       "      <th>prio</th>\n",
       "      <th>static_prio</th>\n",
       "      <th>normal_prio</th>\n",
       "      <th>policy</th>\n",
       "      <th>vm_pgoff</th>\n",
       "      <th>...</th>\n",
       "      <th>nivcsw</th>\n",
       "      <th>min_flt</th>\n",
       "      <th>maj_flt</th>\n",
       "      <th>fs_excl_counter</th>\n",
       "      <th>lock</th>\n",
       "      <th>utime</th>\n",
       "      <th>stime</th>\n",
       "      <th>gtime</th>\n",
       "      <th>cgtime</th>\n",
       "      <th>signal_nvcsw</th>\n",
       "    </tr>\n",
       "  </thead>\n",
       "  <tbody>\n",
       "    <tr>\n",
       "      <th>count</th>\n",
       "      <td>100000</td>\n",
       "      <td>100000.000000</td>\n",
       "      <td>100000</td>\n",
       "      <td>1.000000e+05</td>\n",
       "      <td>100000.0</td>\n",
       "      <td>1.000000e+05</td>\n",
       "      <td>100000.000000</td>\n",
       "      <td>100000.0</td>\n",
       "      <td>100000.0</td>\n",
       "      <td>100000.0</td>\n",
       "      <td>...</td>\n",
       "      <td>100000.000000</td>\n",
       "      <td>100000.000000</td>\n",
       "      <td>100000.000000</td>\n",
       "      <td>100000.000000</td>\n",
       "      <td>1.000000e+05</td>\n",
       "      <td>100000.000000</td>\n",
       "      <td>100000.000000</td>\n",
       "      <td>100000.00000</td>\n",
       "      <td>100000.0</td>\n",
       "      <td>100000.0</td>\n",
       "    </tr>\n",
       "    <tr>\n",
       "      <th>unique</th>\n",
       "      <td>100</td>\n",
       "      <td>NaN</td>\n",
       "      <td>2</td>\n",
       "      <td>NaN</td>\n",
       "      <td>NaN</td>\n",
       "      <td>NaN</td>\n",
       "      <td>NaN</td>\n",
       "      <td>NaN</td>\n",
       "      <td>NaN</td>\n",
       "      <td>NaN</td>\n",
       "      <td>...</td>\n",
       "      <td>NaN</td>\n",
       "      <td>NaN</td>\n",
       "      <td>NaN</td>\n",
       "      <td>NaN</td>\n",
       "      <td>NaN</td>\n",
       "      <td>NaN</td>\n",
       "      <td>NaN</td>\n",
       "      <td>NaN</td>\n",
       "      <td>NaN</td>\n",
       "      <td>NaN</td>\n",
       "    </tr>\n",
       "    <tr>\n",
       "      <th>top</th>\n",
       "      <td>42fb5e2ec009a05ff5143227297074f1e9c6c3ebb9c914...</td>\n",
       "      <td>NaN</td>\n",
       "      <td>malware</td>\n",
       "      <td>NaN</td>\n",
       "      <td>NaN</td>\n",
       "      <td>NaN</td>\n",
       "      <td>NaN</td>\n",
       "      <td>NaN</td>\n",
       "      <td>NaN</td>\n",
       "      <td>NaN</td>\n",
       "      <td>...</td>\n",
       "      <td>NaN</td>\n",
       "      <td>NaN</td>\n",
       "      <td>NaN</td>\n",
       "      <td>NaN</td>\n",
       "      <td>NaN</td>\n",
       "      <td>NaN</td>\n",
       "      <td>NaN</td>\n",
       "      <td>NaN</td>\n",
       "      <td>NaN</td>\n",
       "      <td>NaN</td>\n",
       "    </tr>\n",
       "    <tr>\n",
       "      <th>freq</th>\n",
       "      <td>1000</td>\n",
       "      <td>NaN</td>\n",
       "      <td>50000</td>\n",
       "      <td>NaN</td>\n",
       "      <td>NaN</td>\n",
       "      <td>NaN</td>\n",
       "      <td>NaN</td>\n",
       "      <td>NaN</td>\n",
       "      <td>NaN</td>\n",
       "      <td>NaN</td>\n",
       "      <td>...</td>\n",
       "      <td>NaN</td>\n",
       "      <td>NaN</td>\n",
       "      <td>NaN</td>\n",
       "      <td>NaN</td>\n",
       "      <td>NaN</td>\n",
       "      <td>NaN</td>\n",
       "      <td>NaN</td>\n",
       "      <td>NaN</td>\n",
       "      <td>NaN</td>\n",
       "      <td>NaN</td>\n",
       "    </tr>\n",
       "    <tr>\n",
       "      <th>mean</th>\n",
       "      <td>NaN</td>\n",
       "      <td>499.500000</td>\n",
       "      <td>NaN</td>\n",
       "      <td>1.577683e+05</td>\n",
       "      <td>0.0</td>\n",
       "      <td>3.069706e+09</td>\n",
       "      <td>18183.900070</td>\n",
       "      <td>0.0</td>\n",
       "      <td>0.0</td>\n",
       "      <td>0.0</td>\n",
       "      <td>...</td>\n",
       "      <td>32.991160</td>\n",
       "      <td>2.053130</td>\n",
       "      <td>117.920240</td>\n",
       "      <td>1.109190</td>\n",
       "      <td>3.204448e+09</td>\n",
       "      <td>385415.451970</td>\n",
       "      <td>4.059310</td>\n",
       "      <td>1.66142</td>\n",
       "      <td>0.0</td>\n",
       "      <td>0.0</td>\n",
       "    </tr>\n",
       "    <tr>\n",
       "      <th>std</th>\n",
       "      <td>NaN</td>\n",
       "      <td>288.676434</td>\n",
       "      <td>NaN</td>\n",
       "      <td>9.361726e+05</td>\n",
       "      <td>0.0</td>\n",
       "      <td>2.963061e+05</td>\n",
       "      <td>4609.792765</td>\n",
       "      <td>0.0</td>\n",
       "      <td>0.0</td>\n",
       "      <td>0.0</td>\n",
       "      <td>...</td>\n",
       "      <td>52.730176</td>\n",
       "      <td>13.881382</td>\n",
       "      <td>3.116892</td>\n",
       "      <td>2.160466</td>\n",
       "      <td>0.000000e+00</td>\n",
       "      <td>10144.036494</td>\n",
       "      <td>0.822848</td>\n",
       "      <td>3.26304</td>\n",
       "      <td>0.0</td>\n",
       "      <td>0.0</td>\n",
       "    </tr>\n",
       "    <tr>\n",
       "      <th>min</th>\n",
       "      <td>NaN</td>\n",
       "      <td>0.000000</td>\n",
       "      <td>NaN</td>\n",
       "      <td>0.000000e+00</td>\n",
       "      <td>0.0</td>\n",
       "      <td>3.069190e+09</td>\n",
       "      <td>13988.000000</td>\n",
       "      <td>0.0</td>\n",
       "      <td>0.0</td>\n",
       "      <td>0.0</td>\n",
       "      <td>...</td>\n",
       "      <td>0.000000</td>\n",
       "      <td>0.000000</td>\n",
       "      <td>112.000000</td>\n",
       "      <td>0.000000</td>\n",
       "      <td>3.204448e+09</td>\n",
       "      <td>371782.000000</td>\n",
       "      <td>3.000000</td>\n",
       "      <td>0.00000</td>\n",
       "      <td>0.0</td>\n",
       "      <td>0.0</td>\n",
       "    </tr>\n",
       "    <tr>\n",
       "      <th>25%</th>\n",
       "      <td>NaN</td>\n",
       "      <td>249.750000</td>\n",
       "      <td>NaN</td>\n",
       "      <td>0.000000e+00</td>\n",
       "      <td>0.0</td>\n",
       "      <td>3.069446e+09</td>\n",
       "      <td>14352.000000</td>\n",
       "      <td>0.0</td>\n",
       "      <td>0.0</td>\n",
       "      <td>0.0</td>\n",
       "      <td>...</td>\n",
       "      <td>1.000000</td>\n",
       "      <td>0.000000</td>\n",
       "      <td>114.000000</td>\n",
       "      <td>0.000000</td>\n",
       "      <td>3.204448e+09</td>\n",
       "      <td>378208.000000</td>\n",
       "      <td>3.000000</td>\n",
       "      <td>0.00000</td>\n",
       "      <td>0.0</td>\n",
       "      <td>0.0</td>\n",
       "    </tr>\n",
       "    <tr>\n",
       "      <th>50%</th>\n",
       "      <td>NaN</td>\n",
       "      <td>499.500000</td>\n",
       "      <td>NaN</td>\n",
       "      <td>0.000000e+00</td>\n",
       "      <td>0.0</td>\n",
       "      <td>3.069698e+09</td>\n",
       "      <td>16159.000000</td>\n",
       "      <td>0.0</td>\n",
       "      <td>0.0</td>\n",
       "      <td>0.0</td>\n",
       "      <td>...</td>\n",
       "      <td>9.000000</td>\n",
       "      <td>1.000000</td>\n",
       "      <td>120.000000</td>\n",
       "      <td>0.000000</td>\n",
       "      <td>3.204448e+09</td>\n",
       "      <td>383637.000000</td>\n",
       "      <td>4.000000</td>\n",
       "      <td>0.00000</td>\n",
       "      <td>0.0</td>\n",
       "      <td>0.0</td>\n",
       "    </tr>\n",
       "    <tr>\n",
       "      <th>75%</th>\n",
       "      <td>NaN</td>\n",
       "      <td>749.250000</td>\n",
       "      <td>NaN</td>\n",
       "      <td>4.096000e+03</td>\n",
       "      <td>0.0</td>\n",
       "      <td>3.069957e+09</td>\n",
       "      <td>22182.000000</td>\n",
       "      <td>0.0</td>\n",
       "      <td>0.0</td>\n",
       "      <td>0.0</td>\n",
       "      <td>...</td>\n",
       "      <td>46.000000</td>\n",
       "      <td>1.000000</td>\n",
       "      <td>120.000000</td>\n",
       "      <td>1.000000</td>\n",
       "      <td>3.204448e+09</td>\n",
       "      <td>390324.000000</td>\n",
       "      <td>5.000000</td>\n",
       "      <td>1.00000</td>\n",
       "      <td>0.0</td>\n",
       "      <td>0.0</td>\n",
       "    </tr>\n",
       "    <tr>\n",
       "      <th>max</th>\n",
       "      <td>NaN</td>\n",
       "      <td>999.000000</td>\n",
       "      <td>NaN</td>\n",
       "      <td>4.326605e+07</td>\n",
       "      <td>0.0</td>\n",
       "      <td>3.070222e+09</td>\n",
       "      <td>31855.000000</td>\n",
       "      <td>0.0</td>\n",
       "      <td>0.0</td>\n",
       "      <td>0.0</td>\n",
       "      <td>...</td>\n",
       "      <td>365.000000</td>\n",
       "      <td>256.000000</td>\n",
       "      <td>120.000000</td>\n",
       "      <td>18.000000</td>\n",
       "      <td>3.204448e+09</td>\n",
       "      <td>421913.000000</td>\n",
       "      <td>7.000000</td>\n",
       "      <td>15.00000</td>\n",
       "      <td>0.0</td>\n",
       "      <td>0.0</td>\n",
       "    </tr>\n",
       "  </tbody>\n",
       "</table>\n",
       "<p>11 rows × 35 columns</p>\n",
       "</div>"
      ],
      "text/plain": [
       "                                                     hash    millisecond  \\\n",
       "count                                              100000  100000.000000   \n",
       "unique                                                100            NaN   \n",
       "top     42fb5e2ec009a05ff5143227297074f1e9c6c3ebb9c914...            NaN   \n",
       "freq                                                 1000            NaN   \n",
       "mean                                                  NaN     499.500000   \n",
       "std                                                   NaN     288.676434   \n",
       "min                                                   NaN       0.000000   \n",
       "25%                                                   NaN     249.750000   \n",
       "50%                                                   NaN     499.500000   \n",
       "75%                                                   NaN     749.250000   \n",
       "max                                                   NaN     999.000000   \n",
       "\n",
       "       classification         state  usage_counter          prio  \\\n",
       "count          100000  1.000000e+05       100000.0  1.000000e+05   \n",
       "unique              2           NaN            NaN           NaN   \n",
       "top           malware           NaN            NaN           NaN   \n",
       "freq            50000           NaN            NaN           NaN   \n",
       "mean              NaN  1.577683e+05            0.0  3.069706e+09   \n",
       "std               NaN  9.361726e+05            0.0  2.963061e+05   \n",
       "min               NaN  0.000000e+00            0.0  3.069190e+09   \n",
       "25%               NaN  0.000000e+00            0.0  3.069446e+09   \n",
       "50%               NaN  0.000000e+00            0.0  3.069698e+09   \n",
       "75%               NaN  4.096000e+03            0.0  3.069957e+09   \n",
       "max               NaN  4.326605e+07            0.0  3.070222e+09   \n",
       "\n",
       "          static_prio  normal_prio    policy  vm_pgoff  ...         nivcsw  \\\n",
       "count   100000.000000     100000.0  100000.0  100000.0  ...  100000.000000   \n",
       "unique            NaN          NaN       NaN       NaN  ...            NaN   \n",
       "top               NaN          NaN       NaN       NaN  ...            NaN   \n",
       "freq              NaN          NaN       NaN       NaN  ...            NaN   \n",
       "mean     18183.900070          0.0       0.0       0.0  ...      32.991160   \n",
       "std       4609.792765          0.0       0.0       0.0  ...      52.730176   \n",
       "min      13988.000000          0.0       0.0       0.0  ...       0.000000   \n",
       "25%      14352.000000          0.0       0.0       0.0  ...       1.000000   \n",
       "50%      16159.000000          0.0       0.0       0.0  ...       9.000000   \n",
       "75%      22182.000000          0.0       0.0       0.0  ...      46.000000   \n",
       "max      31855.000000          0.0       0.0       0.0  ...     365.000000   \n",
       "\n",
       "              min_flt        maj_flt  fs_excl_counter          lock  \\\n",
       "count   100000.000000  100000.000000    100000.000000  1.000000e+05   \n",
       "unique            NaN            NaN              NaN           NaN   \n",
       "top               NaN            NaN              NaN           NaN   \n",
       "freq              NaN            NaN              NaN           NaN   \n",
       "mean         2.053130     117.920240         1.109190  3.204448e+09   \n",
       "std         13.881382       3.116892         2.160466  0.000000e+00   \n",
       "min          0.000000     112.000000         0.000000  3.204448e+09   \n",
       "25%          0.000000     114.000000         0.000000  3.204448e+09   \n",
       "50%          1.000000     120.000000         0.000000  3.204448e+09   \n",
       "75%          1.000000     120.000000         1.000000  3.204448e+09   \n",
       "max        256.000000     120.000000        18.000000  3.204448e+09   \n",
       "\n",
       "                utime          stime         gtime    cgtime  signal_nvcsw  \n",
       "count   100000.000000  100000.000000  100000.00000  100000.0      100000.0  \n",
       "unique            NaN            NaN           NaN       NaN           NaN  \n",
       "top               NaN            NaN           NaN       NaN           NaN  \n",
       "freq              NaN            NaN           NaN       NaN           NaN  \n",
       "mean    385415.451970       4.059310       1.66142       0.0           0.0  \n",
       "std      10144.036494       0.822848       3.26304       0.0           0.0  \n",
       "min     371782.000000       3.000000       0.00000       0.0           0.0  \n",
       "25%     378208.000000       3.000000       0.00000       0.0           0.0  \n",
       "50%     383637.000000       4.000000       0.00000       0.0           0.0  \n",
       "75%     390324.000000       5.000000       1.00000       0.0           0.0  \n",
       "max     421913.000000       7.000000      15.00000       0.0           0.0  \n",
       "\n",
       "[11 rows x 35 columns]"
      ]
     },
     "execution_count": 5,
     "metadata": {},
     "output_type": "execute_result"
    }
   ],
   "source": [
    "# read some statistics of the dataset\n",
    "raw_data.describe(include=\"all\")"
   ]
  },
  {
   "cell_type": "code",
   "execution_count": 6,
   "metadata": {
    "execution": {
     "iopub.execute_input": "2021-03-30T09:16:01.601585Z",
     "iopub.status.busy": "2021-03-30T09:16:01.600703Z",
     "iopub.status.idle": "2021-03-30T09:16:01.641214Z",
     "shell.execute_reply": "2021-03-30T09:16:01.640749Z"
    },
    "papermill": {
     "duration": 0.062799,
     "end_time": "2021-03-30T09:16:01.641306",
     "exception": false,
     "start_time": "2021-03-30T09:16:01.578507",
     "status": "completed"
    },
    "tags": []
   },
   "outputs": [
    {
     "name": "stdout",
     "output_type": "stream",
     "text": [
      "<class 'pandas.core.frame.DataFrame'>\n",
      "RangeIndex: 100000 entries, 0 to 99999\n",
      "Data columns (total 35 columns):\n",
      " #   Column             Non-Null Count   Dtype \n",
      "---  ------             --------------   ----- \n",
      " 0   hash               100000 non-null  object\n",
      " 1   millisecond        100000 non-null  int64 \n",
      " 2   classification     100000 non-null  object\n",
      " 3   state              100000 non-null  int64 \n",
      " 4   usage_counter      100000 non-null  int64 \n",
      " 5   prio               100000 non-null  int64 \n",
      " 6   static_prio        100000 non-null  int64 \n",
      " 7   normal_prio        100000 non-null  int64 \n",
      " 8   policy             100000 non-null  int64 \n",
      " 9   vm_pgoff           100000 non-null  int64 \n",
      " 10  vm_truncate_count  100000 non-null  int64 \n",
      " 11  task_size          100000 non-null  int64 \n",
      " 12  cached_hole_size   100000 non-null  int64 \n",
      " 13  free_area_cache    100000 non-null  int64 \n",
      " 14  mm_users           100000 non-null  int64 \n",
      " 15  map_count          100000 non-null  int64 \n",
      " 16  hiwater_rss        100000 non-null  int64 \n",
      " 17  total_vm           100000 non-null  int64 \n",
      " 18  shared_vm          100000 non-null  int64 \n",
      " 19  exec_vm            100000 non-null  int64 \n",
      " 20  reserved_vm        100000 non-null  int64 \n",
      " 21  nr_ptes            100000 non-null  int64 \n",
      " 22  end_data           100000 non-null  int64 \n",
      " 23  last_interval      100000 non-null  int64 \n",
      " 24  nvcsw              100000 non-null  int64 \n",
      " 25  nivcsw             100000 non-null  int64 \n",
      " 26  min_flt            100000 non-null  int64 \n",
      " 27  maj_flt            100000 non-null  int64 \n",
      " 28  fs_excl_counter    100000 non-null  int64 \n",
      " 29  lock               100000 non-null  int64 \n",
      " 30  utime              100000 non-null  int64 \n",
      " 31  stime              100000 non-null  int64 \n",
      " 32  gtime              100000 non-null  int64 \n",
      " 33  cgtime             100000 non-null  int64 \n",
      " 34  signal_nvcsw       100000 non-null  int64 \n",
      "dtypes: int64(33), object(2)\n",
      "memory usage: 26.7+ MB\n"
     ]
    }
   ],
   "source": [
    "# Check the DataType of our dataset\n",
    "raw_data.info()"
   ]
  },
  {
   "cell_type": "markdown",
   "metadata": {
    "papermill": {
     "duration": 0.018663,
     "end_time": "2021-03-30T09:16:01.679055",
     "exception": false,
     "start_time": "2021-03-30T09:16:01.660392",
     "status": "completed"
    },
    "tags": []
   },
   "source": [
    "The data is already clean."
   ]
  },
  {
   "cell_type": "code",
   "execution_count": 7,
   "metadata": {
    "execution": {
     "iopub.execute_input": "2021-03-30T09:16:01.720357Z",
     "iopub.status.busy": "2021-03-30T09:16:01.719864Z",
     "iopub.status.idle": "2021-03-30T09:16:01.723733Z",
     "shell.execute_reply": "2021-03-30T09:16:01.723157Z"
    },
    "papermill": {
     "duration": 0.02562,
     "end_time": "2021-03-30T09:16:01.723831",
     "exception": false,
     "start_time": "2021-03-30T09:16:01.698211",
     "status": "completed"
    },
    "tags": []
   },
   "outputs": [],
   "source": [
    "#Start Processing\n",
    "data = raw_data"
   ]
  },
  {
   "cell_type": "code",
   "execution_count": 8,
   "metadata": {
    "execution": {
     "iopub.execute_input": "2021-03-30T09:16:01.790968Z",
     "iopub.status.busy": "2021-03-30T09:16:01.790427Z",
     "iopub.status.idle": "2021-03-30T09:16:01.793000Z",
     "shell.execute_reply": "2021-03-30T09:16:01.793505Z"
    },
    "papermill": {
     "duration": 0.050404,
     "end_time": "2021-03-30T09:16:01.793607",
     "exception": false,
     "start_time": "2021-03-30T09:16:01.743203",
     "status": "completed"
    },
    "tags": []
   },
   "outputs": [
    {
     "data": {
      "text/plain": [
       "malware    50000\n",
       "benign     50000\n",
       "Name: classification, dtype: int64"
      ]
     },
     "execution_count": 8,
     "metadata": {},
     "output_type": "execute_result"
    }
   ],
   "source": [
    "data[\"classification\"].value_counts()"
   ]
  },
  {
   "cell_type": "code",
   "execution_count": 9,
   "metadata": {
    "execution": {
     "iopub.execute_input": "2021-03-30T09:16:01.846743Z",
     "iopub.status.busy": "2021-03-30T09:16:01.845903Z",
     "iopub.status.idle": "2021-03-30T09:16:01.863860Z",
     "shell.execute_reply": "2021-03-30T09:16:01.864236Z"
    },
    "papermill": {
     "duration": 0.051289,
     "end_time": "2021-03-30T09:16:01.864339",
     "exception": false,
     "start_time": "2021-03-30T09:16:01.813050",
     "status": "completed"
    },
    "tags": []
   },
   "outputs": [
    {
     "data": {
      "text/html": [
       "<div>\n",
       "<style scoped>\n",
       "    .dataframe tbody tr th:only-of-type {\n",
       "        vertical-align: middle;\n",
       "    }\n",
       "\n",
       "    .dataframe tbody tr th {\n",
       "        vertical-align: top;\n",
       "    }\n",
       "\n",
       "    .dataframe thead th {\n",
       "        text-align: right;\n",
       "    }\n",
       "</style>\n",
       "<table border=\"1\" class=\"dataframe\">\n",
       "  <thead>\n",
       "    <tr style=\"text-align: right;\">\n",
       "      <th></th>\n",
       "      <th>hash</th>\n",
       "      <th>millisecond</th>\n",
       "      <th>classification</th>\n",
       "      <th>state</th>\n",
       "      <th>usage_counter</th>\n",
       "      <th>prio</th>\n",
       "      <th>static_prio</th>\n",
       "      <th>normal_prio</th>\n",
       "      <th>policy</th>\n",
       "      <th>vm_pgoff</th>\n",
       "      <th>...</th>\n",
       "      <th>nivcsw</th>\n",
       "      <th>min_flt</th>\n",
       "      <th>maj_flt</th>\n",
       "      <th>fs_excl_counter</th>\n",
       "      <th>lock</th>\n",
       "      <th>utime</th>\n",
       "      <th>stime</th>\n",
       "      <th>gtime</th>\n",
       "      <th>cgtime</th>\n",
       "      <th>signal_nvcsw</th>\n",
       "    </tr>\n",
       "  </thead>\n",
       "  <tbody>\n",
       "    <tr>\n",
       "      <th>0</th>\n",
       "      <td>42fb5e2ec009a05ff5143227297074f1e9c6c3ebb9c914...</td>\n",
       "      <td>0</td>\n",
       "      <td>1</td>\n",
       "      <td>0</td>\n",
       "      <td>0</td>\n",
       "      <td>3069378560</td>\n",
       "      <td>14274</td>\n",
       "      <td>0</td>\n",
       "      <td>0</td>\n",
       "      <td>0</td>\n",
       "      <td>...</td>\n",
       "      <td>0</td>\n",
       "      <td>0</td>\n",
       "      <td>120</td>\n",
       "      <td>0</td>\n",
       "      <td>3204448256</td>\n",
       "      <td>380690</td>\n",
       "      <td>4</td>\n",
       "      <td>0</td>\n",
       "      <td>0</td>\n",
       "      <td>0</td>\n",
       "    </tr>\n",
       "    <tr>\n",
       "      <th>1</th>\n",
       "      <td>42fb5e2ec009a05ff5143227297074f1e9c6c3ebb9c914...</td>\n",
       "      <td>1</td>\n",
       "      <td>1</td>\n",
       "      <td>0</td>\n",
       "      <td>0</td>\n",
       "      <td>3069378560</td>\n",
       "      <td>14274</td>\n",
       "      <td>0</td>\n",
       "      <td>0</td>\n",
       "      <td>0</td>\n",
       "      <td>...</td>\n",
       "      <td>0</td>\n",
       "      <td>0</td>\n",
       "      <td>120</td>\n",
       "      <td>0</td>\n",
       "      <td>3204448256</td>\n",
       "      <td>380690</td>\n",
       "      <td>4</td>\n",
       "      <td>0</td>\n",
       "      <td>0</td>\n",
       "      <td>0</td>\n",
       "    </tr>\n",
       "    <tr>\n",
       "      <th>2</th>\n",
       "      <td>42fb5e2ec009a05ff5143227297074f1e9c6c3ebb9c914...</td>\n",
       "      <td>2</td>\n",
       "      <td>1</td>\n",
       "      <td>0</td>\n",
       "      <td>0</td>\n",
       "      <td>3069378560</td>\n",
       "      <td>14274</td>\n",
       "      <td>0</td>\n",
       "      <td>0</td>\n",
       "      <td>0</td>\n",
       "      <td>...</td>\n",
       "      <td>0</td>\n",
       "      <td>0</td>\n",
       "      <td>120</td>\n",
       "      <td>0</td>\n",
       "      <td>3204448256</td>\n",
       "      <td>380690</td>\n",
       "      <td>4</td>\n",
       "      <td>0</td>\n",
       "      <td>0</td>\n",
       "      <td>0</td>\n",
       "    </tr>\n",
       "    <tr>\n",
       "      <th>3</th>\n",
       "      <td>42fb5e2ec009a05ff5143227297074f1e9c6c3ebb9c914...</td>\n",
       "      <td>3</td>\n",
       "      <td>1</td>\n",
       "      <td>0</td>\n",
       "      <td>0</td>\n",
       "      <td>3069378560</td>\n",
       "      <td>14274</td>\n",
       "      <td>0</td>\n",
       "      <td>0</td>\n",
       "      <td>0</td>\n",
       "      <td>...</td>\n",
       "      <td>0</td>\n",
       "      <td>0</td>\n",
       "      <td>120</td>\n",
       "      <td>0</td>\n",
       "      <td>3204448256</td>\n",
       "      <td>380690</td>\n",
       "      <td>4</td>\n",
       "      <td>0</td>\n",
       "      <td>0</td>\n",
       "      <td>0</td>\n",
       "    </tr>\n",
       "    <tr>\n",
       "      <th>4</th>\n",
       "      <td>42fb5e2ec009a05ff5143227297074f1e9c6c3ebb9c914...</td>\n",
       "      <td>4</td>\n",
       "      <td>1</td>\n",
       "      <td>0</td>\n",
       "      <td>0</td>\n",
       "      <td>3069378560</td>\n",
       "      <td>14274</td>\n",
       "      <td>0</td>\n",
       "      <td>0</td>\n",
       "      <td>0</td>\n",
       "      <td>...</td>\n",
       "      <td>0</td>\n",
       "      <td>0</td>\n",
       "      <td>120</td>\n",
       "      <td>0</td>\n",
       "      <td>3204448256</td>\n",
       "      <td>380690</td>\n",
       "      <td>4</td>\n",
       "      <td>0</td>\n",
       "      <td>0</td>\n",
       "      <td>0</td>\n",
       "    </tr>\n",
       "  </tbody>\n",
       "</table>\n",
       "<p>5 rows × 35 columns</p>\n",
       "</div>"
      ],
      "text/plain": [
       "                                                hash  millisecond  \\\n",
       "0  42fb5e2ec009a05ff5143227297074f1e9c6c3ebb9c914...            0   \n",
       "1  42fb5e2ec009a05ff5143227297074f1e9c6c3ebb9c914...            1   \n",
       "2  42fb5e2ec009a05ff5143227297074f1e9c6c3ebb9c914...            2   \n",
       "3  42fb5e2ec009a05ff5143227297074f1e9c6c3ebb9c914...            3   \n",
       "4  42fb5e2ec009a05ff5143227297074f1e9c6c3ebb9c914...            4   \n",
       "\n",
       "   classification  state  usage_counter        prio  static_prio  normal_prio  \\\n",
       "0               1      0              0  3069378560        14274            0   \n",
       "1               1      0              0  3069378560        14274            0   \n",
       "2               1      0              0  3069378560        14274            0   \n",
       "3               1      0              0  3069378560        14274            0   \n",
       "4               1      0              0  3069378560        14274            0   \n",
       "\n",
       "   policy  vm_pgoff  ...  nivcsw  min_flt  maj_flt  fs_excl_counter  \\\n",
       "0       0         0  ...       0        0      120                0   \n",
       "1       0         0  ...       0        0      120                0   \n",
       "2       0         0  ...       0        0      120                0   \n",
       "3       0         0  ...       0        0      120                0   \n",
       "4       0         0  ...       0        0      120                0   \n",
       "\n",
       "         lock   utime  stime  gtime  cgtime  signal_nvcsw  \n",
       "0  3204448256  380690      4      0       0             0  \n",
       "1  3204448256  380690      4      0       0             0  \n",
       "2  3204448256  380690      4      0       0             0  \n",
       "3  3204448256  380690      4      0       0             0  \n",
       "4  3204448256  380690      4      0       0             0  \n",
       "\n",
       "[5 rows x 35 columns]"
      ]
     },
     "execution_count": 9,
     "metadata": {},
     "output_type": "execute_result"
    }
   ],
   "source": [
    "data['classification'] = data.classification.map({'benign':0, 'malware':1})\n",
    "data.head()"
   ]
  },
  {
   "cell_type": "code",
   "execution_count": 10,
   "metadata": {
    "execution": {
     "iopub.execute_input": "2021-03-30T09:16:01.912120Z",
     "iopub.status.busy": "2021-03-30T09:16:01.909558Z",
     "iopub.status.idle": "2021-03-30T09:16:01.977111Z",
     "shell.execute_reply": "2021-03-30T09:16:01.977544Z"
    },
    "papermill": {
     "duration": 0.093217,
     "end_time": "2021-03-30T09:16:01.977667",
     "exception": false,
     "start_time": "2021-03-30T09:16:01.884450",
     "status": "completed"
    },
    "tags": []
   },
   "outputs": [
    {
     "data": {
      "text/html": [
       "<div>\n",
       "<style scoped>\n",
       "    .dataframe tbody tr th:only-of-type {\n",
       "        vertical-align: middle;\n",
       "    }\n",
       "\n",
       "    .dataframe tbody tr th {\n",
       "        vertical-align: top;\n",
       "    }\n",
       "\n",
       "    .dataframe thead th {\n",
       "        text-align: right;\n",
       "    }\n",
       "</style>\n",
       "<table border=\"1\" class=\"dataframe\">\n",
       "  <thead>\n",
       "    <tr style=\"text-align: right;\">\n",
       "      <th></th>\n",
       "      <th>hash</th>\n",
       "      <th>millisecond</th>\n",
       "      <th>classification</th>\n",
       "      <th>state</th>\n",
       "      <th>usage_counter</th>\n",
       "      <th>prio</th>\n",
       "      <th>static_prio</th>\n",
       "      <th>normal_prio</th>\n",
       "      <th>policy</th>\n",
       "      <th>vm_pgoff</th>\n",
       "      <th>...</th>\n",
       "      <th>nivcsw</th>\n",
       "      <th>min_flt</th>\n",
       "      <th>maj_flt</th>\n",
       "      <th>fs_excl_counter</th>\n",
       "      <th>lock</th>\n",
       "      <th>utime</th>\n",
       "      <th>stime</th>\n",
       "      <th>gtime</th>\n",
       "      <th>cgtime</th>\n",
       "      <th>signal_nvcsw</th>\n",
       "    </tr>\n",
       "  </thead>\n",
       "  <tbody>\n",
       "    <tr>\n",
       "      <th>0</th>\n",
       "      <td>156a617d84b92c1611e153ebaa1fc2e9d1af9c6154834c...</td>\n",
       "      <td>665</td>\n",
       "      <td>1</td>\n",
       "      <td>0</td>\n",
       "      <td>0</td>\n",
       "      <td>3069538304</td>\n",
       "      <td>15152</td>\n",
       "      <td>0</td>\n",
       "      <td>0</td>\n",
       "      <td>0</td>\n",
       "      <td>...</td>\n",
       "      <td>0</td>\n",
       "      <td>1</td>\n",
       "      <td>120</td>\n",
       "      <td>0</td>\n",
       "      <td>3204448256</td>\n",
       "      <td>384541</td>\n",
       "      <td>5</td>\n",
       "      <td>0</td>\n",
       "      <td>0</td>\n",
       "      <td>0</td>\n",
       "    </tr>\n",
       "    <tr>\n",
       "      <th>1</th>\n",
       "      <td>com.qizz.life.apk</td>\n",
       "      <td>104</td>\n",
       "      <td>0</td>\n",
       "      <td>0</td>\n",
       "      <td>0</td>\n",
       "      <td>3069452288</td>\n",
       "      <td>19530</td>\n",
       "      <td>0</td>\n",
       "      <td>0</td>\n",
       "      <td>0</td>\n",
       "      <td>...</td>\n",
       "      <td>0</td>\n",
       "      <td>1</td>\n",
       "      <td>120</td>\n",
       "      <td>0</td>\n",
       "      <td>3204448256</td>\n",
       "      <td>381996</td>\n",
       "      <td>4</td>\n",
       "      <td>0</td>\n",
       "      <td>0</td>\n",
       "      <td>0</td>\n",
       "    </tr>\n",
       "    <tr>\n",
       "      <th>2</th>\n",
       "      <td>1117d14765e9169184cc931f7a417a460898e4b0d8f3c8...</td>\n",
       "      <td>990</td>\n",
       "      <td>1</td>\n",
       "      <td>0</td>\n",
       "      <td>0</td>\n",
       "      <td>3069956096</td>\n",
       "      <td>13996</td>\n",
       "      <td>0</td>\n",
       "      <td>0</td>\n",
       "      <td>0</td>\n",
       "      <td>...</td>\n",
       "      <td>0</td>\n",
       "      <td>1</td>\n",
       "      <td>120</td>\n",
       "      <td>0</td>\n",
       "      <td>3204448256</td>\n",
       "      <td>374050</td>\n",
       "      <td>4</td>\n",
       "      <td>0</td>\n",
       "      <td>0</td>\n",
       "      <td>0</td>\n",
       "    </tr>\n",
       "    <tr>\n",
       "      <th>3</th>\n",
       "      <td>com.microsoft.amp.apps.bingfinance.apk</td>\n",
       "      <td>145</td>\n",
       "      <td>0</td>\n",
       "      <td>0</td>\n",
       "      <td>0</td>\n",
       "      <td>3069575168</td>\n",
       "      <td>15681</td>\n",
       "      <td>0</td>\n",
       "      <td>0</td>\n",
       "      <td>0</td>\n",
       "      <td>...</td>\n",
       "      <td>0</td>\n",
       "      <td>0</td>\n",
       "      <td>120</td>\n",
       "      <td>1</td>\n",
       "      <td>3204448256</td>\n",
       "      <td>381443</td>\n",
       "      <td>3</td>\n",
       "      <td>0</td>\n",
       "      <td>0</td>\n",
       "      <td>0</td>\n",
       "    </tr>\n",
       "    <tr>\n",
       "      <th>4</th>\n",
       "      <td>com.baiwang.instablend.apk</td>\n",
       "      <td>749</td>\n",
       "      <td>0</td>\n",
       "      <td>0</td>\n",
       "      <td>0</td>\n",
       "      <td>3069960192</td>\n",
       "      <td>17027</td>\n",
       "      <td>0</td>\n",
       "      <td>0</td>\n",
       "      <td>0</td>\n",
       "      <td>...</td>\n",
       "      <td>121</td>\n",
       "      <td>1</td>\n",
       "      <td>120</td>\n",
       "      <td>1</td>\n",
       "      <td>3204448256</td>\n",
       "      <td>394800</td>\n",
       "      <td>5</td>\n",
       "      <td>3</td>\n",
       "      <td>0</td>\n",
       "      <td>0</td>\n",
       "    </tr>\n",
       "  </tbody>\n",
       "</table>\n",
       "<p>5 rows × 35 columns</p>\n",
       "</div>"
      ],
      "text/plain": [
       "                                                hash  millisecond  \\\n",
       "0  156a617d84b92c1611e153ebaa1fc2e9d1af9c6154834c...          665   \n",
       "1                                  com.qizz.life.apk          104   \n",
       "2  1117d14765e9169184cc931f7a417a460898e4b0d8f3c8...          990   \n",
       "3             com.microsoft.amp.apps.bingfinance.apk          145   \n",
       "4                         com.baiwang.instablend.apk          749   \n",
       "\n",
       "   classification  state  usage_counter        prio  static_prio  normal_prio  \\\n",
       "0               1      0              0  3069538304        15152            0   \n",
       "1               0      0              0  3069452288        19530            0   \n",
       "2               1      0              0  3069956096        13996            0   \n",
       "3               0      0              0  3069575168        15681            0   \n",
       "4               0      0              0  3069960192        17027            0   \n",
       "\n",
       "   policy  vm_pgoff  ...  nivcsw  min_flt  maj_flt  fs_excl_counter  \\\n",
       "0       0         0  ...       0        1      120                0   \n",
       "1       0         0  ...       0        1      120                0   \n",
       "2       0         0  ...       0        1      120                0   \n",
       "3       0         0  ...       0        0      120                1   \n",
       "4       0         0  ...     121        1      120                1   \n",
       "\n",
       "         lock   utime  stime  gtime  cgtime  signal_nvcsw  \n",
       "0  3204448256  384541      5      0       0             0  \n",
       "1  3204448256  381996      4      0       0             0  \n",
       "2  3204448256  374050      4      0       0             0  \n",
       "3  3204448256  381443      3      0       0             0  \n",
       "4  3204448256  394800      5      3       0             0  \n",
       "\n",
       "[5 rows x 35 columns]"
      ]
     },
     "execution_count": 10,
     "metadata": {},
     "output_type": "execute_result"
    }
   ],
   "source": [
    "# Shuffle data\n",
    "data = data.sample(frac=1).reset_index(drop=True)\n",
    "data.head()"
   ]
  },
  {
   "cell_type": "code",
   "execution_count": 11,
   "metadata": {
    "execution": {
     "iopub.execute_input": "2021-03-30T09:16:02.023762Z",
     "iopub.status.busy": "2021-03-30T09:16:02.023129Z",
     "iopub.status.idle": "2021-03-30T09:16:02.796819Z",
     "shell.execute_reply": "2021-03-30T09:16:02.796217Z"
    },
    "papermill": {
     "duration": 0.797992,
     "end_time": "2021-03-30T09:16:02.796929",
     "exception": false,
     "start_time": "2021-03-30T09:16:01.998937",
     "status": "completed"
    },
    "tags": []
   },
   "outputs": [],
   "source": [
    "#Import drawing tools\n",
    "\n",
    "import matplotlib.pyplot as plt\n",
    "import seaborn as sns"
   ]
  },
  {
   "cell_type": "code",
   "execution_count": 11,
   "metadata": {
    "execution": {
     "iopub.execute_input": "2021-03-30T09:16:02.845711Z",
     "iopub.status.busy": "2021-03-30T09:16:02.844863Z",
     "iopub.status.idle": "2021-03-30T09:16:02.974584Z",
     "shell.execute_reply": "2021-03-30T09:16:02.973782Z"
    },
    "papermill": {
     "duration": 0.15505,
     "end_time": "2021-03-30T09:16:02.974691",
     "exception": false,
     "start_time": "2021-03-30T09:16:02.819641",
     "status": "completed"
    },
    "tags": []
   },
   "outputs": [
    {
     "name": "stderr",
     "output_type": "stream",
     "text": [
      "C:\\Users\\91952\\AppData\\Local\\Programs\\Python\\Python310\\lib\\site-packages\\seaborn\\_decorators.py:36: FutureWarning: Pass the following variable as a keyword arg: x. From version 0.12, the only valid positional argument will be `data`, and passing other arguments without an explicit keyword will result in an error or misinterpretation.\n",
      "  warnings.warn(\n"
     ]
    },
    {
     "data": {
      "image/png": "[encoded data removed]",
      "text/plain": [
       "<Figure size 432x288 with 1 Axes>"
      ]
     },
     "metadata": {
      "needs_background": "light"
     },
     "output_type": "display_data"
    }
   ],
   "source": [
    "sns.countplot(data[\"classification\"])\n",
    "plt.show()"
   ]
  },
  {
   "cell_type": "code",
   "execution_count": 12,
   "metadata": {
    "execution": {
     "iopub.execute_input": "2021-03-30T09:16:03.025325Z",
     "iopub.status.busy": "2021-03-30T09:16:03.024115Z",
     "iopub.status.idle": "2021-03-30T09:16:04.897654Z",
     "shell.execute_reply": "2021-03-30T09:16:04.898087Z"
    },
    "papermill": {
     "duration": 1.89986,
     "end_time": "2021-03-30T09:16:04.898206",
     "exception": false,
     "start_time": "2021-03-30T09:16:02.998346",
     "status": "completed"
    },
    "tags": []
   },
   "outputs": [
    {
     "data": {
      "image/png": "[encoded data removed]",
      "text/plain": [
       "<Figure size 432x288 with 2 Axes>"
      ]
     },
     "metadata": {
      "needs_background": "light"
     },
     "output_type": "display_data"
    }
   ],
   "source": [
    "corrMatrix = data.corr()\n",
    "sns.heatmap(corrMatrix, annot=True)\n",
    "plt.show()"
   ]
  },
  {
   "cell_type": "code",
   "execution_count": 13,
   "metadata": {
    "execution": {
     "iopub.execute_input": "2021-03-30T09:16:04.962942Z",
     "iopub.status.busy": "2021-03-30T09:16:04.961054Z",
     "iopub.status.idle": "2021-03-30T09:16:04.963541Z",
     "shell.execute_reply": "2021-03-30T09:16:04.963964Z"
    },
    "papermill": {
     "duration": 0.040953,
     "end_time": "2021-03-30T09:16:04.964083",
     "exception": false,
     "start_time": "2021-03-30T09:16:04.923130",
     "status": "completed"
    },
    "tags": []
   },
   "outputs": [],
   "source": [
    "X = data.drop([\"hash\",\"classification\",'vm_truncate_count','shared_vm','exec_vm','nvcsw','maj_flt','utime'],axis=1)\n",
    "Y = data[\"classification\"]"
   ]
  },
  {
   "cell_type": "code",
   "execution_count": 14,
   "metadata": {
    "execution": {
     "iopub.execute_input": "2021-03-30T09:16:05.019319Z",
     "iopub.status.busy": "2021-03-30T09:16:05.018657Z",
     "iopub.status.idle": "2021-03-30T09:16:05.136404Z",
     "shell.execute_reply": "2021-03-30T09:16:05.135837Z"
    },
    "papermill": {
     "duration": 0.146753,
     "end_time": "2021-03-30T09:16:05.136517",
     "exception": false,
     "start_time": "2021-03-30T09:16:04.989764",
     "status": "completed"
    },
    "tags": []
   },
   "outputs": [],
   "source": [
    "from sklearn.model_selection import train_test_split\n",
    "x_train,x_test,y_train,y_test=train_test_split(X,Y,test_size=0.2,random_state=1)"
   ]
  },
  {
   "cell_type": "markdown",
   "metadata": {
    "papermill": {
     "duration": 0.024749,
     "end_time": "2021-03-30T09:16:05.186199",
     "exception": false,
     "start_time": "2021-03-30T09:16:05.161450",
     "status": "completed"
    },
    "tags": []
   },
   "source": [
    "Before we feed to a NN, we need to normalize the data"
   ]
  },
  {
   "cell_type": "code",
   "execution_count": 15,
   "metadata": {
    "execution": {
     "iopub.execute_input": "2021-03-30T09:16:05.272788Z",
     "iopub.status.busy": "2021-03-30T09:16:05.272027Z",
     "iopub.status.idle": "2021-03-30T09:16:05.274590Z",
     "shell.execute_reply": "2021-03-30T09:16:05.275222Z"
    },
    "papermill": {
     "duration": 0.063915,
     "end_time": "2021-03-30T09:16:05.275336",
     "exception": false,
     "start_time": "2021-03-30T09:16:05.211421",
     "status": "completed"
    },
    "tags": []
   },
   "outputs": [],
   "source": [
    "# Data normalization\n",
    "\n",
    "from sklearn.preprocessing import StandardScaler\n",
    "\n",
    "scaler = StandardScaler()"
   ]
  },
  {
   "cell_type": "code",
   "execution_count": 16,
   "metadata": {
    "execution": {
     "iopub.execute_input": "2021-03-30T09:16:05.332786Z",
     "iopub.status.busy": "2021-03-30T09:16:05.331778Z",
     "iopub.status.idle": "2021-03-30T09:16:05.387930Z",
     "shell.execute_reply": "2021-03-30T09:16:05.386819Z"
    },
    "papermill": {
     "duration": 0.087202,
     "end_time": "2021-03-30T09:16:05.388043",
     "exception": false,
     "start_time": "2021-03-30T09:16:05.300841",
     "status": "completed"
    },
    "tags": []
   },
   "outputs": [],
   "source": [
    "x_train = scaler.fit_transform(x_train)\n",
    "x_test = scaler.transform(x_test)"
   ]
  },
  {
   "cell_type": "code",
   "execution_count": 17,
   "metadata": {
    "execution": {
     "iopub.execute_input": "2021-03-30T09:16:05.443149Z",
     "iopub.status.busy": "2021-03-30T09:16:05.442494Z",
     "iopub.status.idle": "2021-03-30T09:16:10.055492Z",
     "shell.execute_reply": "2021-03-30T09:16:10.054702Z"
    },
    "papermill": {
     "duration": 4.641791,
     "end_time": "2021-03-30T09:16:10.055606",
     "exception": false,
     "start_time": "2021-03-30T09:16:05.413815",
     "status": "completed"
    },
    "tags": []
   },
   "outputs": [],
   "source": [
    "import tensorflow as tf"
   ]
  },
  {
   "cell_type": "code",
   "execution_count": 18,
   "metadata": {
    "execution": {
     "iopub.execute_input": "2021-03-30T09:16:10.116307Z",
     "iopub.status.busy": "2021-03-30T09:16:10.115788Z",
     "iopub.status.idle": "2021-03-30T09:16:12.851401Z",
     "shell.execute_reply": "2021-03-30T09:16:12.850690Z"
    },
    "papermill": {
     "duration": 2.768696,
     "end_time": "2021-03-30T09:16:12.851553",
     "exception": false,
     "start_time": "2021-03-30T09:16:10.082857",
     "status": "completed"
    },
    "tags": []
   },
   "outputs": [
    {
     "name": "stdout",
     "output_type": "stream",
     "text": [
      "Model: \"sequential\"\n",
      "_________________________________________________________________\n",
      " Layer (type)                Output Shape              Param #   \n",
      "=================================================================\n",
      " dense (Dense)               (None, 50)                1400      \n",
      "                                                                 \n",
      " dense_1 (Dense)             (None, 50)                2550      \n",
      "                                                                 \n",
      " dense_2 (Dense)             (None, 50)                2550      \n",
      "                                                                 \n",
      " dense_3 (Dense)             (None, 50)                2550      \n",
      "                                                                 \n",
      " dense_4 (Dense)             (None, 50)                2550      \n",
      "                                                                 \n",
      " dense_5 (Dense)             (None, 50)                2550      \n",
      "                                                                 \n",
      " dense_6 (Dense)             (None, 2)                 102       \n",
      "                                                                 \n",
      "=================================================================\n",
      "Total params: 14,252\n",
      "Trainable params: 14,252\n",
      "Non-trainable params: 0\n",
      "_________________________________________________________________\n"
     ]
    }
   ],
   "source": [
    "#Number of attributes\n",
    "input_size = 27 \n",
    "\n",
    "#Number of Outputs\n",
    "output_size = 2 \n",
    "\n",
    "# Use same hidden layer size for both hidden layers. Not a necessity.\n",
    "hidden_layer_size = 50\n",
    "    \n",
    "# define how the model will look like\n",
    "model = tf.keras.Sequential([\n",
    "    tf.keras.layers.Dense(hidden_layer_size, input_shape=(input_size,), activation='relu'), # 1st hidden layer\n",
    "    tf.keras.layers.Dense(hidden_layer_size, activation='relu'),\n",
    "    tf.keras.layers.Dense(hidden_layer_size, activation='relu'),\n",
    "    tf.keras.layers.Dense(hidden_layer_size, activation='relu'),\n",
    "    tf.keras.layers.Dense(hidden_layer_size, activation='relu'),\n",
    "    tf.keras.layers.Dense(hidden_layer_size, activation='relu'),\n",
    "    tf.keras.layers.Dense(output_size, activation='softmax') # output layer\n",
    "])\n",
    "\n",
    "model.summary()"
   ]
  },
  {
   "cell_type": "code",
   "execution_count": 20,
   "metadata": {
    "execution": {
     "iopub.execute_input": "2021-03-30T09:16:12.914544Z",
     "iopub.status.busy": "2021-03-30T09:16:12.913466Z",
     "iopub.status.idle": "2021-03-30T09:16:12.920831Z",
     "shell.execute_reply": "2021-03-30T09:16:12.920225Z"
    },
    "papermill": {
     "duration": 0.043468,
     "end_time": "2021-03-30T09:16:12.920934",
     "exception": false,
     "start_time": "2021-03-30T09:16:12.877466",
     "status": "completed"
    },
    "tags": []
   },
   "outputs": [],
   "source": [
    "model.compile(optimizer='adam', loss='sparse_categorical_crossentropy', metrics=['accuracy'])\n"
   ]
  },
  {
   "cell_type": "code",
   "execution_count": 21,
   "metadata": {
    "execution": {
     "iopub.execute_input": "2021-03-30T09:16:12.977417Z",
     "iopub.status.busy": "2021-03-30T09:16:12.976890Z",
     "iopub.status.idle": "2021-03-30T09:16:12.980726Z",
     "shell.execute_reply": "2021-03-30T09:16:12.980261Z"
    },
    "papermill": {
     "duration": 0.033801,
     "end_time": "2021-03-30T09:16:12.980821",
     "exception": false,
     "start_time": "2021-03-30T09:16:12.947020",
     "status": "completed"
    },
    "tags": []
   },
   "outputs": [],
   "source": [
    "# set the batch size\n",
    "batch_size = 100\n",
    "\n",
    "# set a maximum number of training epochs\n",
    "max_epochs = 20\n",
    "\n",
    "# set an early stopping mechanism\n",
    "# let's set patience=2, to be a bit tolerant against random validation loss increases\n",
    "early_stopping = tf.keras.callbacks.EarlyStopping(patience=2)"
   ]
  },
  {
   "cell_type": "code",
   "execution_count": 22,
   "metadata": {
    "execution": {
     "iopub.execute_input": "2021-03-30T09:16:13.038849Z",
     "iopub.status.busy": "2021-03-30T09:16:13.038224Z",
     "iopub.status.idle": "2021-03-30T09:16:42.967253Z",
     "shell.execute_reply": "2021-03-30T09:16:42.966683Z"
    },
    "papermill": {
     "duration": 29.960257,
     "end_time": "2021-03-30T09:16:42.967385",
     "exception": false,
     "start_time": "2021-03-30T09:16:13.007128",
     "status": "completed"
    },
    "tags": []
   },
   "outputs": [
    {
     "name": "stdout",
     "output_type": "stream",
     "text": [
      "Epoch 1/20\n",
      "640/640 [==============================] - 2s 2ms/step - loss: 0.0788 - accuracy: 0.9701 - val_loss: 0.0094 - val_accuracy: 0.9972\n",
      "Epoch 2/20\n",
      "640/640 [==============================] - 1s 2ms/step - loss: 0.0091 - accuracy: 0.9970 - val_loss: 0.0045 - val_accuracy: 0.9985\n",
      "Epoch 3/20\n",
      "640/640 [==============================] - 1s 2ms/step - loss: 0.0057 - accuracy: 0.9984 - val_loss: 0.0021 - val_accuracy: 0.9994\n",
      "Epoch 4/20\n",
      "640/640 [==============================] - 1s 2ms/step - loss: 0.0028 - accuracy: 0.9991 - val_loss: 0.0032 - val_accuracy: 0.9990\n",
      "Epoch 5/20\n",
      "640/640 [==============================] - 1s 2ms/step - loss: 0.0020 - accuracy: 0.9994 - val_loss: 0.0034 - val_accuracy: 0.9992\n",
      "Epoch 6/20\n",
      "640/640 [==============================] - 2s 3ms/step - loss: 0.0072 - accuracy: 0.9980 - val_loss: 7.2070e-04 - val_accuracy: 0.9998\n",
      "Epoch 7/20\n",
      "640/640 [==============================] - 1s 2ms/step - loss: 0.0011 - accuracy: 0.9997 - val_loss: 9.6182e-04 - val_accuracy: 0.9998\n",
      "Epoch 8/20\n",
      "640/640 [==============================] - 1s 2ms/step - loss: 0.0022 - accuracy: 0.9994 - val_loss: 0.0037 - val_accuracy: 0.9984\n",
      "Epoch 9/20\n",
      "640/640 [==============================] - 1s 2ms/step - loss: 0.0033 - accuracy: 0.9990 - val_loss: 0.0012 - val_accuracy: 0.9995\n",
      "Epoch 10/20\n",
      "640/640 [==============================] - 1s 2ms/step - loss: 0.0015 - accuracy: 0.9996 - val_loss: 5.7753e-04 - val_accuracy: 0.9999\n",
      "Epoch 11/20\n",
      "640/640 [==============================] - 1s 2ms/step - loss: 0.0015 - accuracy: 0.9995 - val_loss: 3.4570e-04 - val_accuracy: 0.9999\n",
      "Epoch 12/20\n",
      "640/640 [==============================] - 1s 2ms/step - loss: 0.0016 - accuracy: 0.9996 - val_loss: 0.0011 - val_accuracy: 0.9998\n",
      "Epoch 13/20\n",
      "640/640 [==============================] - 2s 3ms/step - loss: 0.0015 - accuracy: 0.9996 - val_loss: 0.0102 - val_accuracy: 0.9977\n",
      "Epoch 14/20\n",
      "640/640 [==============================] - 1s 2ms/step - loss: 6.5361e-04 - accuracy: 0.9998 - val_loss: 2.5471e-04 - val_accuracy: 0.9999\n",
      "Epoch 15/20\n",
      "640/640 [==============================] - 1s 2ms/step - loss: 0.0020 - accuracy: 0.9993 - val_loss: 0.0014 - val_accuracy: 0.9995\n",
      "Epoch 16/20\n",
      "640/640 [==============================] - 1s 2ms/step - loss: 7.3172e-04 - accuracy: 0.9998 - val_loss: 4.1644e-04 - val_accuracy: 0.9998\n",
      "Epoch 17/20\n",
      "640/640 [==============================] - 2s 2ms/step - loss: 1.6568e-04 - accuracy: 0.9999 - val_loss: 8.6386e-05 - val_accuracy: 0.9999\n",
      "Epoch 18/20\n",
      "640/640 [==============================] - 1s 2ms/step - loss: 3.7415e-05 - accuracy: 1.0000 - val_loss: 8.8901e-05 - val_accuracy: 0.9999\n",
      "Epoch 19/20\n",
      "640/640 [==============================] - 1s 2ms/step - loss: 0.0025 - accuracy: 0.9992 - val_loss: 0.0013 - val_accuracy: 0.9998\n",
      "Epoch 20/20\n",
      "640/640 [==============================] - 1s 2ms/step - loss: 0.0013 - accuracy: 0.9996 - val_loss: 0.0010 - val_accuracy: 0.9996\n"
     ]
    }
   ],
   "source": [
    "result = model.fit(x=x_train,\n",
    "                   y=y_train,\n",
    "                   batch_size=batch_size,\n",
    "                   epochs=max_epochs,\n",
    "                   verbose=1,\n",
    "                   validation_split=0.2)\n"
   ]
  },
  {
   "cell_type": "code",
   "execution_count": 23,
   "metadata": {
    "execution": {
     "iopub.execute_input": "2021-03-30T09:16:43.362278Z",
     "iopub.status.busy": "2021-03-30T09:16:43.359435Z",
     "iopub.status.idle": "2021-03-30T09:16:43.972213Z",
     "shell.execute_reply": "2021-03-30T09:16:43.973273Z"
    },
    "papermill": {
     "duration": 0.839805,
     "end_time": "2021-03-30T09:16:43.973461",
     "exception": false,
     "start_time": "2021-03-30T09:16:43.133656",
     "status": "completed"
    },
    "tags": []
   },
   "outputs": [
    {
     "name": "stderr",
     "output_type": "stream",
     "text": [
      "C:\\Users\\91952\\AppData\\Local\\Temp\\ipykernel_11648\\1364437480.py:18: UserWarning: color is redundantly defined by the 'color' keyword argument and the fmt string \"bo\" (-> color='b'). The keyword argument will take precedence.\n",
      "  ax2.plot(epochs, loss, \"bo\", label = \"Training loss\", color = 'red')\n",
      "C:\\Users\\91952\\AppData\\Local\\Temp\\ipykernel_11648\\1364437480.py:19: UserWarning: color is redundantly defined by the 'color' keyword argument and the fmt string \"b\" (-> color=(0.0, 0.0, 1.0, 1)). The keyword argument will take precedence.\n",
      "  ax2.plot(epochs, val_loss, \"b\", label = \"Validation loss\", color = 'red')\n"
     ]
    },
    {
     "data": {
      "image/png": "[encoded data removed]",
      "text/plain": [
       "<Figure size 1080x360 with 2 Axes>"
      ]
     },
     "metadata": {
      "needs_background": "light"
     },
     "output_type": "display_data"
    }
   ],
   "source": [
    "# Visualize the result\n",
    "acc = result.history['accuracy']\n",
    "val_acc = result.history['val_accuracy']\n",
    "loss = result.history['loss']\n",
    "val_loss = result.history['val_loss']\n",
    "\n",
    "epochs = range(1, len(acc) + 1)\n",
    "\n",
    "fig, (ax1, ax2) = plt.subplots(1, 2, figsize=(15, 5))\n",
    "sns.set_style(\"white\")\n",
    "plt.suptitle('Train history', size = 15)\n",
    "\n",
    "ax1.plot(epochs, acc, \"bo\", label = \"Training acc\")\n",
    "ax1.plot(epochs, val_acc, \"b\", label = \"Validation acc\")\n",
    "ax1.set_title(\"Training and validation acc\")\n",
    "ax1.legend()\n",
    "\n",
    "ax2.plot(epochs, loss, \"bo\", label = \"Training loss\", color = 'red')\n",
    "ax2.plot(epochs, val_loss, \"b\", label = \"Validation loss\", color = 'red')\n",
    "ax2.set_title(\"Training and validation loss\")\n",
    "ax2.legend()\n",
    "\n",
    "plt.show()"
   ]
  },
  {
   "cell_type": "code",
   "execution_count": 24,
   "metadata": {
    "execution": {
     "iopub.execute_input": "2021-03-30T09:16:44.493435Z",
     "iopub.status.busy": "2021-03-30T09:16:44.492629Z",
     "iopub.status.idle": "2021-03-30T09:16:45.696579Z",
     "shell.execute_reply": "2021-03-30T09:16:45.697467Z"
    },
    "papermill": {
     "duration": 1.443241,
     "end_time": "2021-03-30T09:16:45.697637",
     "exception": false,
     "start_time": "2021-03-30T09:16:44.254396",
     "status": "completed"
    },
    "tags": []
   },
   "outputs": [
    {
     "name": "stdout",
     "output_type": "stream",
     "text": [
      "625/625 [==============================] - 1s 2ms/step - loss: 9.6306e-04 - accuracy: 0.9997\n",
      "\n",
      "Test loss: 0.000963. Test accuracy: 99.965000%\n"
     ]
    }
   ],
   "source": [
    "test_loss, test_accuracy = model.evaluate(x_test, y_test)\n",
    "\n",
    "print('\\nTest loss: {0:.6f}. Test accuracy: {1:.6f}%'.format(test_loss, test_accuracy*100.))"
   ]
  },
  {
   "cell_type": "markdown",
   "metadata": {
    "papermill": {
     "duration": 0.176271,
     "end_time": "2021-03-30T09:16:46.048829",
     "exception": false,
     "start_time": "2021-03-30T09:16:45.872558",
     "status": "completed"
    },
    "tags": []
   },
   "source": [
    "Further train the model using SGD with lr=0.001"
   ]
  },
  {
   "cell_type": "code",
   "execution_count": 39,
   "metadata": {
    "execution": {
     "iopub.execute_input": "2021-03-30T09:16:46.399160Z",
     "iopub.status.busy": "2021-03-30T09:16:46.398431Z",
     "iopub.status.idle": "2021-03-30T09:16:46.470062Z",
     "shell.execute_reply": "2021-03-30T09:16:46.469585Z"
    },
    "papermill": {
     "duration": 0.24863,
     "end_time": "2021-03-30T09:16:46.470153",
     "exception": false,
     "start_time": "2021-03-30T09:16:46.221523",
     "status": "completed"
    },
    "tags": []
   },
   "outputs": [
    {
     "name": "stderr",
     "output_type": "stream",
     "text": [
      "C:\\Users\\91952\\AppData\\Local\\Programs\\Python\\Python310\\lib\\site-packages\\keras\\optimizers\\optimizer_v2\\gradient_descent.py:108: UserWarning: The `lr` argument is deprecated, use `learning_rate` instead.\n",
      "  super(SGD, self).__init__(name, **kwargs)\n"
     ]
    }
   ],
   "source": [
    "from keras.optimizers import SGD\n",
    "sgd = SGD(lr=0.001, decay=1e-6, momentum=0.9, nesterov=True)\n",
    "model.compile(optimizer = sgd, loss = \"sparse_categorical_crossentropy\", metrics=['accuracy'])"
   ]
  },
  {
   "cell_type": "code",
   "execution_count": 26,
   "metadata": {
    "execution": {
     "iopub.execute_input": "2021-03-30T09:16:46.842499Z",
     "iopub.status.busy": "2021-03-30T09:16:46.841594Z",
     "iopub.status.idle": "2021-03-30T09:16:57.068070Z",
     "shell.execute_reply": "2021-03-30T09:16:57.068509Z"
    },
    "papermill": {
     "duration": 10.410195,
     "end_time": "2021-03-30T09:16:57.068646",
     "exception": false,
     "start_time": "2021-03-30T09:16:46.658451",
     "status": "completed"
    },
    "tags": []
   },
   "outputs": [
    {
     "name": "stdout",
     "output_type": "stream",
     "text": [
      "Epoch 11/30\n",
      "640/640 [==============================] - 2s 2ms/step - loss: 2.4710e-04 - accuracy: 0.9999 - val_loss: 5.5403e-04 - val_accuracy: 0.9998\n",
      "Epoch 12/30\n",
      "640/640 [==============================] - 1s 2ms/step - loss: 1.5336e-04 - accuracy: 1.0000 - val_loss: 4.3927e-04 - val_accuracy: 0.9999\n",
      "Epoch 13/30\n",
      "640/640 [==============================] - 1s 2ms/step - loss: 1.2315e-04 - accuracy: 1.0000 - val_loss: 3.4377e-04 - val_accuracy: 0.9999\n",
      "Epoch 14/30\n",
      "640/640 [==============================] - 1s 2ms/step - loss: 9.9883e-05 - accuracy: 1.0000 - val_loss: 2.8765e-04 - val_accuracy: 0.9999\n",
      "Epoch 15/30\n",
      "640/640 [==============================] - 1s 2ms/step - loss: 8.5285e-05 - accuracy: 1.0000 - val_loss: 2.5862e-04 - val_accuracy: 0.9999\n",
      "Epoch 16/30\n",
      "640/640 [==============================] - 1s 2ms/step - loss: 7.3869e-05 - accuracy: 1.0000 - val_loss: 2.3345e-04 - val_accuracy: 0.9999\n",
      "Epoch 17/30\n",
      "640/640 [==============================] - 1s 2ms/step - loss: 6.8336e-05 - accuracy: 1.0000 - val_loss: 2.2241e-04 - val_accuracy: 0.9999\n",
      "Epoch 18/30\n",
      "640/640 [==============================] - 1s 2ms/step - loss: 6.3470e-05 - accuracy: 1.0000 - val_loss: 2.1634e-04 - val_accuracy: 0.9999\n",
      "Epoch 19/30\n",
      "640/640 [==============================] - 1s 2ms/step - loss: 5.9281e-05 - accuracy: 1.0000 - val_loss: 2.1549e-04 - val_accuracy: 0.9999\n",
      "Epoch 20/30\n",
      "640/640 [==============================] - 1s 2ms/step - loss: 5.6216e-05 - accuracy: 1.0000 - val_loss: 2.1175e-04 - val_accuracy: 0.9999\n",
      "Epoch 21/30\n",
      "640/640 [==============================] - 1s 2ms/step - loss: 5.3298e-05 - accuracy: 1.0000 - val_loss: 2.0631e-04 - val_accuracy: 0.9999\n",
      "Epoch 22/30\n",
      "640/640 [==============================] - 1s 2ms/step - loss: 5.0672e-05 - accuracy: 1.0000 - val_loss: 2.0005e-04 - val_accuracy: 0.9999\n",
      "Epoch 23/30\n",
      "640/640 [==============================] - 1s 2ms/step - loss: 4.8010e-05 - accuracy: 1.0000 - val_loss: 1.9854e-04 - val_accuracy: 0.9999\n",
      "Epoch 24/30\n",
      "640/640 [==============================] - 1s 2ms/step - loss: 4.5933e-05 - accuracy: 1.0000 - val_loss: 1.9527e-04 - val_accuracy: 0.9999\n",
      "Epoch 25/30\n",
      "640/640 [==============================] - 1s 2ms/step - loss: 4.4047e-05 - accuracy: 1.0000 - val_loss: 1.9171e-04 - val_accuracy: 0.9999\n",
      "Epoch 26/30\n",
      "640/640 [==============================] - 1s 2ms/step - loss: 4.2000e-05 - accuracy: 1.0000 - val_loss: 1.9291e-04 - val_accuracy: 0.9999\n",
      "Epoch 27/30\n",
      "640/640 [==============================] - 1s 2ms/step - loss: 4.0261e-05 - accuracy: 1.0000 - val_loss: 1.9067e-04 - val_accuracy: 0.9999\n",
      "Epoch 28/30\n",
      "640/640 [==============================] - 1s 2ms/step - loss: 3.8829e-05 - accuracy: 1.0000 - val_loss: 1.8460e-04 - val_accuracy: 0.9999\n",
      "Epoch 29/30\n",
      "640/640 [==============================] - 1s 2ms/step - loss: 3.7414e-05 - accuracy: 1.0000 - val_loss: 1.8375e-04 - val_accuracy: 0.9999\n",
      "Epoch 30/30\n",
      "640/640 [==============================] - 1s 2ms/step - loss: 3.5902e-05 - accuracy: 1.0000 - val_loss: 1.8761e-04 - val_accuracy: 0.9999\n"
     ]
    }
   ],
   "source": [
    "result = model.fit(x=x_train,\n",
    "                   y=y_train,\n",
    "                   batch_size=batch_size,\n",
    "                   epochs=30,\n",
    "                   verbose=1,\n",
    "                   initial_epoch=10, #start from epoch 11\n",
    "                   callbacks=[early_stopping], #prevent overfitting\n",
    "                   validation_split=0.2)"
   ]
  },
  {
   "cell_type": "code",
   "execution_count": 27,
   "metadata": {
    "execution": {
     "iopub.execute_input": "2021-03-30T09:16:57.513494Z",
     "iopub.status.busy": "2021-03-30T09:16:57.512606Z",
     "iopub.status.idle": "2021-03-30T09:16:58.690203Z",
     "shell.execute_reply": "2021-03-30T09:16:58.689697Z"
    },
    "papermill": {
     "duration": 1.401463,
     "end_time": "2021-03-30T09:16:58.690303",
     "exception": false,
     "start_time": "2021-03-30T09:16:57.288840",
     "status": "completed"
    },
    "tags": []
   },
   "outputs": [
    {
     "name": "stdout",
     "output_type": "stream",
     "text": [
      "625/625 [==============================] - 1s 2ms/step - loss: 5.6052e-04 - accuracy: 0.9998\n",
      "\n",
      "Test loss: 0.000561. Test accuracy: 99.980003%\n"
     ]
    }
   ],
   "source": [
    "test_loss, test_accuracy = model.evaluate(x_test, y_test)\n",
    "\n",
    "print('\\nTest loss: {0:.6f}. Test accuracy: {1:.6f}%'.format(test_loss, test_accuracy*100.))"
   ]
  },
  {
   "cell_type": "code",
   "execution_count": 28,
   "metadata": {
    "papermill": {
     "duration": 0.226301,
     "end_time": "2021-03-30T09:16:59.142941",
     "exception": false,
     "start_time": "2021-03-30T09:16:58.916640",
     "status": "completed"
    },
    "tags": []
   },
   "outputs": [],
   "source": [
    "model.save('trained_model.h5')"
   ]
  },
  {
   "cell_type": "code",
   "execution_count": null,
   "metadata": {},
   "outputs": [],
   "source": [
    "import tkinter as tk\n",
    "from tkinter import filedialog\n",
    "import pandas as pd\n",
    "from sklearn.preprocessing import StandardScaler\n",
    "import tensorflow as tf\n",
    "\n",
    "# Load the trained model\n",
    "model = tf.keras.models.load_model(\"trained_model.h5\")\n",
    "\n",
    "def browse_file():\n",
    "    filename = filedialog.askopenfilename(filetypes=[(\"CSV Files\", \"*.csv\")])\n",
    "    if filename:\n",
    "        # Perform prediction on the selected file\n",
    "        predict_malware(filename)\n",
    "\n",
    "def predict_malware(filename):\n",
    "    # Read the CSV file\n",
    "    data = pd.read_csv(filename)\n",
    "\n",
    "    # Preprocess the data\n",
    "    data['classification'] = data.classification.map({'benign': 0, 'malware': 1})\n",
    "    X = data.drop([\"hash\", \"classification\", 'vm_truncate_count', 'shared_vm', 'exec_vm', 'nvcsw', 'maj_flt', 'utime'], axis=1)\n",
    "    scaler = StandardScaler()\n",
    "    X = scaler.fit_transform(X)\n",
    "\n",
    "    # Perform prediction using the trained model\n",
    "    predictions = model.predict(X)\n",
    "\n",
    "    # Identify rows containing malware\n",
    "    malware_rows = [i for i, prediction in enumerate(predictions) if prediction[0]<0.5]\n",
    "\n",
    "    if malware_rows:\n",
    "        # Remove rows containing malware\n",
    "        data = data.drop(malware_rows)\n",
    "\n",
    "        # Save the cleaned CSV file\n",
    "        cleaned_filename = filename.split(\".csv\")[0] + \"_cleaned.csv\"\n",
    "        data.to_csv(cleaned_filename, index=False)\n",
    "        message_label.config(text=f\"The file has been classified as consisting of malware and cleaned.\\nCleaned data is saved as {cleaned_filename}.\", fg=\"green\")\n",
    "    else:\n",
    "        message_label.config(text=\"The file is classified as Benign (No Malware)\", fg=\"blue\")\n",
    "\n",
    "# Create the Tkinter root window\n",
    "root = tk.Tk()\n",
    "root.title(\"Malware Classification\")\n",
    "root.configure(bg=\"white\")  # Set background color\n",
    "\n",
    "# Create a label for the title\n",
    "title_label = tk.Label(root, text=\"Malware and Benign class Classification.\", font=(\"Arial\", 16, \"bold\"), bg=\"white\")\n",
    "title_label.pack(pady=20)\n",
    "\n",
    "# Create a label for displaying messages\n",
    "message_label = tk.Label(root, text=\"\", font=(\"Arial\", 12), bg=\"white\")\n",
    "message_label.pack()\n",
    "\n",
    "# Create a button to trigger file selection\n",
    "upload_button = tk.Button(root, text=\"Upload File for classification\", font=(\"Arial\", 12, \"bold\"), bg=\"lightblue\", fg=\"white\", padx=10, pady=5, command=browse_file)\n",
    "upload_button.pack(pady=20)\n",
    "\n",
    "# Start the Tkinter event loop\n",
    "root.mainloop()\n"
   ]
  },
  {
   "cell_type": "code",
   "execution_count": null,
   "metadata": {},
   "outputs": [],
   "source": []
  },
  {
   "cell_type": "code",
   "execution_count": null,
   "metadata": {},
   "outputs": [],
   "source": []
  }
 ],
 "metadata": {
  "kernelspec": {
   "display_name": "Python 3 (ipykernel)",
   "language": "python",
   "name": "python3"
  },
  "language_info": {
   "codemirror_mode": {
    "name": "ipython",
    "version": 3
   },
   "file_extension": ".py",
   "mimetype": "text/x-python",
   "name": "python",
   "nbconvert_exporter": "python",
   "pygments_lexer": "ipython3",
   "version": "3.10.5"
  },
  "papermill": {
   "duration": 63.719306,
   "end_time": "2021-03-30T09:17:00.539945",
   "environment_variables": {},
   "exception": null,
   "input_path": "__notebook__.ipynb",
   "output_path": "__notebook__.ipynb",
   "parameters": {},
   "start_time": "2021-03-30T09:15:56.820639",
   "version": "2.1.0"
  }
 },
 "nbformat": 4,
 "nbformat_minor": 4
}
